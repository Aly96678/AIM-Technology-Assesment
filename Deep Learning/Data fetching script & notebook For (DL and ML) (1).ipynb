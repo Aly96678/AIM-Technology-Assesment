{
 "cells": [
  {
   "cell_type": "code",
   "execution_count": null,
   "metadata": {},
   "outputs": [],
   "source": [
    "import requests\n",
    "import csv\n",
    "import time\n",
    " \n",
    "# data = [\"1055620304465215616\"]\n",
    "data = {}\n",
    "with open('dialect_dataset.csv', newline='') as csvfile:\n",
    "    reader = csv.DictReader(csvfile)\n",
    "    for row in reader:\n",
    "        data[row['id']] = row['dialect']\n",
    " \n",
    "headers = {\"Content-Type\": \"application/json\", \"Accept\":\"application/json\"}\n",
    "url = \"https://recruitment.aimtechnologies.co/ai-tasks\"\n",
    " \n",
    "counter = 0\n",
    "increments = 1000\n",
    " \n",
    "while True:\n",
    "    if(counter >= len(data)):\n",
    "        break;\n",
    " \n",
    "    response = requests.post(url, json = list(data.keys())[counter:counter+increments], headers = headers)\n",
    " \n",
    "    jsonResponse = response.json()\n",
    " \n",
    "    with open('dialect_response.csv', 'a', encoding='utf-8') as csvfile:\n",
    "        writer = csv.DictWriter(csvfile, fieldnames=['id', 'response'])\n",
    "        for item in jsonResponse:\n",
    "            writer.writerow({ 'id': item,'response': jsonResponse[item]})\n",
    " \n",
    "    counter = counter + increments\n",
    " \n",
    "    print(f'{counter} / 458198')\n",
    "    \n",
    "    time.sleep(5)"
   ]
  }
 ],
 "metadata": {
  "kernelspec": {
   "display_name": "Python 3",
   "language": "python",
   "name": "python3"
  },
  "language_info": {
   "codemirror_mode": {
    "name": "ipython",
    "version": 3
   },
   "file_extension": ".py",
   "mimetype": "text/x-python",
   "name": "python",
   "nbconvert_exporter": "python",
   "pygments_lexer": "ipython3",
   "version": "3.7.4"
  }
 },
 "nbformat": 4,
 "nbformat_minor": 2
}
