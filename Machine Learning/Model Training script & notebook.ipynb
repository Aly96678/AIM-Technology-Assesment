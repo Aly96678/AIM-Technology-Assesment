{
 "cells": [
  {
   "cell_type": "markdown",
   "metadata": {},
   "source": [
    "# Training Model"
   ]
  },
  {
   "cell_type": "code",
   "execution_count": null,
   "metadata": {},
   "outputs": [],
   "source": [
    "from sklearn.naive_bayes import MultinomialNB\n",
    "\n",
    "clf = MultinomialNB().fit(X_train, y_train_number)"
   ]
  },
  {
   "cell_type": "code",
   "execution_count": null,
   "metadata": {},
   "outputs": [],
   "source": [
    "#test_sentences = [\"learn stock market playing this game\"]\n",
    "\n",
    "#print(\"*Pre-processing\")\n",
    "#print(process_texts(X_test))\n",
    "\n",
    "print(\"*Vectorizing: Pay attention below, we have three non-zero terms. They correspond to our vocabulary words: stock, market and game\")\n",
    "#test_features = count_vectorizer.transform(process_texts(X_test))\n",
    "#print(test_features.toarray())\n",
    "\n",
    "print(\"*Predicting\")\n",
    "y_hat = clf.predict(X_test)\n",
    "print(\"Class:\", y_hat)\n",
    "#print(\"Probabilities:\", clf.predict_proba(test_features))"
   ]
  },
  {
   "cell_type": "markdown",
   "metadata": {},
   "source": [
    "# Evaluation Using Accuracy , Precision, Recall and F1-Score "
   ]
  },
  {
   "cell_type": "code",
   "execution_count": null,
   "metadata": {},
   "outputs": [],
   "source": [
    "y_test = y_test.to_numpy()"
   ]
  },
  {
   "cell_type": "code",
   "execution_count": null,
   "metadata": {},
   "outputs": [],
   "source": [
    "y_test_number = np.argmax(y_test, axis = 1) # change from onehot encoding to decimal number "
   ]
  },
  {
   "cell_type": "code",
   "execution_count": null,
   "metadata": {},
   "outputs": [],
   "source": [
    "# Precision \n",
    "from sklearn.metrics import precision_score\n",
    "precision = precision_score(y_test_number, y_hat, average='micro')\n",
    "print('Precision: %.3f' % precision)"
   ]
  },
  {
   "cell_type": "code",
   "execution_count": null,
   "metadata": {},
   "outputs": [],
   "source": [
    "# Recall\n",
    "from sklearn.metrics import recall_score\n",
    "recall = recall_score(y_test_number, y_hat, average='macro')\n",
    "print('Recall: %.3f' % recall)"
   ]
  }
 ],
 "metadata": {
  "kernelspec": {
   "display_name": "Python 3",
   "language": "python",
   "name": "python3"
  },
  "language_info": {
   "codemirror_mode": {
    "name": "ipython",
    "version": 3
   },
   "file_extension": ".py",
   "mimetype": "text/x-python",
   "name": "python",
   "nbconvert_exporter": "python",
   "pygments_lexer": "ipython3",
   "version": "3.7.4"
  }
 },
 "nbformat": 4,
 "nbformat_minor": 2
}
